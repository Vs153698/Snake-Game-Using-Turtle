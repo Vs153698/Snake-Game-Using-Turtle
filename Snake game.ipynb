{
 "cells": [
  {
   "cell_type": "markdown",
   "id": "145ef93c-140e-4a21-a12d-7cac694f9cda",
   "metadata": {},
   "source": [
    "# Snake Game"
   ]
  },
  {
   "cell_type": "code",
   "execution_count": 1,
   "id": "bb7d1a44-d231-4b15-9095-804e119ddb8d",
   "metadata": {
    "tags": []
   },
   "outputs": [],
   "source": [
    "# We will import modules here\n",
    "# we can make this by using GUI also\n",
    "import turtle\n",
    "import time\n",
    "import random"
   ]
  },
  {
   "cell_type": "code",
   "execution_count": 2,
   "id": "b5717893-6951-4f8a-b0a9-cf60561650e8",
   "metadata": {},
   "outputs": [],
   "source": [
    "# Global Variables\n",
    "\n",
    "window=None\n",
    "snake = []\n",
    "head = None\n",
    "\n",
    "direction = 'down'\n",
    "TURTLE_SIZE=20\n",
    "delay_time=.1\n",
    "\n",
    "food = None\n",
    "HEIGHT = 600\n",
    "WIDTH = 600\n",
    "food_color=''\n",
    "\n",
    "X_RANGE=(WIDTH - TURTLE_SIZE) /2\n",
    "Y_RANGE=(HEIGHT - TURTLE_SIZE) /2\n",
    "\n",
    "shapes = {\n",
    "    0: 'circle',\n",
    "    1: 'square',\n",
    "    2: 'triangle'\n",
    "}\n",
    "color={\n",
    "    0: 'gold',\n",
    "    1: 'lime green',\n",
    "    2: 'dark magenta',\n",
    "    3: 'red',\n",
    "    4: 'dark orange',\n",
    "    5: 'deep sky blue',\n",
    "    6: 'deep pink',\n",
    "    7: 'light sea green'\n",
    "}\n",
    "score=0\n",
    "high_score=0\n",
    "pen=None\n"
   ]
  },
  {
   "cell_type": "code",
   "execution_count": 3,
   "id": "19091118-2f34-4a5f-aff2-026988623a28",
   "metadata": {},
   "outputs": [],
   "source": [
    "def set_screen():\n",
    "    # inserting window variable here\n",
    "    \"\"\"\n",
    "    This will create the screen \n",
    "    \"\"\"\n",
    "    global window \n",
    "    # now we will open turtle screen\n",
    "    window=turtle.Screen()\n",
    "    # giving title name\n",
    "    window.title(\"Snake Game By Vaibhav\")\n",
    "    # setting background color\n",
    "    window.bgcolor(\"white\")\n",
    "    # setting up height and width of window screen\n",
    "    window.setup(width=WIDTH , height=HEIGHT)\n",
    "    # it will stop the movement and make it to do manually\n",
    "    window.tracer(0)  ## false\n",
    "    "
   ]
  },
  {
   "cell_type": "code",
   "execution_count": 4,
   "id": "07a7759d-8e08-46f7-8bbe-abfc5df1ac4c",
   "metadata": {
    "tags": []
   },
   "outputs": [],
   "source": [
    "# creating a function for keyboard events\n",
    "def listen_events():\n",
    "    window.listen()\n",
    "    window.onkeypress(set_up_direction,'Up') # here keys name first letter should be in capital like `Up` not up\n",
    "    window.onkeypress(set_down_direction,'Down')\n",
    "    window.onkeypress(set_left_direction,'Left')\n",
    "    window.onkeypress(set_right_direction,'Right')\n",
    "    "
   ]
  },
  {
   "cell_type": "code",
   "execution_count": 5,
   "id": "4cec2d68-27a2-4071-9bf0-af311e4adad9",
   "metadata": {},
   "outputs": [],
   "source": [
    "# keyboard functions\n",
    "\n",
    "def set_up_direction():\n",
    "    global direction\n",
    "    if direction !='down':\n",
    "        direction = 'up'\n",
    "def set_down_direction():\n",
    "    global direction\n",
    "    if direction != 'up':\n",
    "        direction = 'down'\n",
    "def set_left_direction():\n",
    "    global direction\n",
    "    if direction != 'right':\n",
    "        direction = 'left'\n",
    "def set_right_direction():\n",
    "    global direction\n",
    "    if direction != 'left':\n",
    "        direction = 'right'"
   ]
  },
  {
   "cell_type": "code",
   "execution_count": 6,
   "id": "968bdd40-4227-43f4-a779-0f47b9d15230",
   "metadata": {},
   "outputs": [],
   "source": [
    "# create head of the snake\n",
    "\n",
    "def create_head(is_initial=True):\n",
    "    \"\"\" creates the snake head\"\"\"\n",
    "    # insert global variable of snake and head\n",
    "    global head, snake\n",
    "    # turtle screen for head\n",
    "    head=turtle.Turtle()\n",
    "    # inserting shape of the head\n",
    "    head.shape(shapes[1]) # 20 x 20\n",
    "    # setting initial speed to 0 so that it will not move initially\n",
    "    head.speed(0)\n",
    "    # turtle will not draw any line on screen as it is game\n",
    "    head.penup()\n",
    "    if is_initial:\n",
    "    # head will be ob center by using .goto(0,0)\n",
    "        head.goto(0,0)\n",
    "   \n",
    "    snake.append(head)\n",
    "    \n",
    "    "
   ]
  },
  {
   "cell_type": "code",
   "execution_count": 7,
   "id": "ceefe832-63e3-48c1-b932-dd69d26b206a",
   "metadata": {},
   "outputs": [],
   "source": [
    "def create_score():\n",
    "    global pen\n",
    "    pen=turtle.Turtle()\n",
    "    pen.penup()\n",
    "    pen.hideturtle()\n",
    "    pen.goto(0,260)\n",
    "    pen.color(\"black\")\n",
    "    update_score(0)"
   ]
  },
  {
   "cell_type": "code",
   "execution_count": 8,
   "id": "baf2000e-357e-4cf1-9a0b-b5b17b46d894",
   "metadata": {},
   "outputs": [],
   "source": [
    "def update_score(score_increment,is_reset=False):\n",
    "    global score, high_score \n",
    "    if is_reset:\n",
    "        score=0\n",
    "    else:\n",
    "        score += score_increment\n",
    "    if score > high_score:\n",
    "        high_score=score\n",
    "    pen.clear()\n",
    "    pen.write(\"Score : {0} | High Score : {1}\".format(score,high_score),\n",
    "             align='center',\n",
    "             font=('Arial' ,16,'normal'))\n",
    "        \n",
    "    "
   ]
  },
  {
   "cell_type": "code",
   "execution_count": 9,
   "id": "8f4cd21e-bbb9-4220-b5fa-8a5654634325",
   "metadata": {},
   "outputs": [],
   "source": [
    "# function to update screen\n",
    "def update_screen():\n",
    "    while window._RUNNING:\n",
    "        check_border_collision()\n",
    "        check_body_collision()\n",
    "        # MOVE FUNCTION\n",
    "        move()\n",
    "        \n",
    "        # delay time\n",
    "        delay(delay_time)\n",
    "        \n",
    "        # add food\n",
    "        add_food()\n",
    "        \n",
    "        # eat food \n",
    "        eat_food()\n",
    "        \n",
    "        window.update()  # to overcome the update error we will put it to last\n",
    "        \n",
    "        "
   ]
  },
  {
   "cell_type": "code",
   "execution_count": 10,
   "id": "a763df21-d4ea-4509-8e87-c797e1d47261",
   "metadata": {},
   "outputs": [],
   "source": [
    "def check_border_collision():\n",
    "    x=head.xcor()\n",
    "    y=head.ycor()\n",
    "    if x<= -X_RANGE or x >= X_RANGE or y <= -Y_RANGE or y >= Y_RANGE:\n",
    "        global direction\n",
    "        direction ='stop'\n",
    "        \n",
    "        # resetscreen\n",
    "        delay(1)\n",
    "        reset()\n",
    "        "
   ]
  },
  {
   "cell_type": "code",
   "execution_count": 11,
   "id": "cb35b0c3-9821-4c68-bba2-079caefa3863",
   "metadata": {},
   "outputs": [],
   "source": [
    "def check_body_collision():\n",
    "    for i,t in enumerate(snake):\n",
    "        if i > 0:\n",
    "            if head.distance(t) < TURTLE_SIZE - 1:\n",
    "                global direction\n",
    "                direction = 'stop'\n",
    "        \n",
    "        # resetscreen\n",
    "                delay(1)\n",
    "                reset()\n",
    "                "
   ]
  },
  {
   "cell_type": "code",
   "execution_count": 12,
   "id": "c7471734-4f8b-4c13-a034-c135aa92e169",
   "metadata": {},
   "outputs": [],
   "source": [
    "def reset():\n",
    "    for t in snake:\n",
    "        t.goto(400000,40000)\n",
    "        \n",
    "    snake.clear()\n",
    "    create_head(is_initial=False)\n",
    "    update_score(0,is_reset=True)"
   ]
  },
  {
   "cell_type": "code",
   "execution_count": 13,
   "id": "d1d1d5b0-7402-47c1-9e45-4e92ea28ffb6",
   "metadata": {},
   "outputs": [],
   "source": [
    "def move():\n",
    "    if window._RUNNING:\n",
    "        if direction != 'stop':\n",
    "    # will move the segments i show be above move head so had will not hide due to segments\n",
    "            move_segment()\n",
    "    \n",
    "    # move head\n",
    "            move_head()\n",
    "    \n",
    "        "
   ]
  },
  {
   "cell_type": "code",
   "execution_count": 14,
   "id": "b0c1edb7-7351-4e18-b80a-e88f4e20b99a",
   "metadata": {},
   "outputs": [],
   "source": [
    "def move_head():\n",
    "    x=head.xcor()\n",
    "    y=head.ycor()\n",
    "    \n",
    "    # move the head \n",
    "    \n",
    "    if direction=='up':\n",
    "        \n",
    "        head.sety(y + TURTLE_SIZE)\n",
    "        \n",
    "    elif direction=='down':\n",
    "        \n",
    "        head.sety(y - TURTLE_SIZE)\n",
    "        \n",
    "    elif direction=='left':\n",
    "        \n",
    "        head.setx(x - TURTLE_SIZE)\n",
    "        \n",
    "    elif direction=='right':\n",
    "        \n",
    "        head.setx(x + TURTLE_SIZE)"
   ]
  },
  {
   "cell_type": "code",
   "execution_count": 15,
   "id": "301995a5-4e34-4811-a48a-51f84c18fc48",
   "metadata": {},
   "outputs": [],
   "source": [
    "def move_segment():\n",
    "    for i in range(len(snake)-1,0,-1):\n",
    "        x=snake[i-1].xcor()\n",
    "        y=snake[i-1].ycor()\n",
    "        snake[i].goto(x,y)"
   ]
  },
  {
   "cell_type": "code",
   "execution_count": 16,
   "id": "bea2b119-95b5-46b9-b549-50407bb0cbf6",
   "metadata": {},
   "outputs": [],
   "source": [
    "def delay(duration):\n",
    "    time.sleep(duration)"
   ]
  },
  {
   "cell_type": "code",
   "execution_count": 17,
   "id": "19809d4e-3903-4528-8bd7-e496d8fe104b",
   "metadata": {},
   "outputs": [],
   "source": [
    "def add_food():\n",
    "    if window._RUNNING:\n",
    "        global food\n",
    "        # create a turtlr--> single-->simgletun\n",
    "        if food==None:\n",
    "            food=turtle.Turtle()\n",
    "            food.shape(get_shape())\n",
    "            food.shapesize(0.5,0.5)\n",
    "            food.speed(0)\n",
    "            food.penup()\n",
    "            food.color(get_color())\n",
    "            \n",
    "            # move the food\n",
    "            move_food(food)\n",
    "    "
   ]
  },
  {
   "cell_type": "code",
   "execution_count": 18,
   "id": "d655abb2-fe9a-495c-9d4b-05d0aeb859ef",
   "metadata": {},
   "outputs": [],
   "source": [
    "def move_food(food):\n",
    "    x=random.randint(-X_RANGE,X_RANGE)\n",
    "    y=random.randint(-Y_RANGE,Y_RANGE-260)\n",
    "    food.goto(x,y)\n",
    "    "
   ]
  },
  {
   "cell_type": "code",
   "execution_count": 19,
   "id": "5bc92d8d-b1f2-441d-ad61-e97589c2b55e",
   "metadata": {},
   "outputs": [],
   "source": [
    "def eat_food():\n",
    "    if head.distance(food)< TURTLE_SIZE-1:\n",
    "        # MOVE THE FOOD\n",
    "        move_food(food)\n",
    "        \n",
    "        # change shape\n",
    "        food.shape(get_shape())\n",
    "        \n",
    "        # create segment\n",
    "        create_segment()\n",
    "        \n",
    "        # change color\n",
    "        food.color(get_color())\n",
    "        update_score(10)\n",
    "        \n",
    "    "
   ]
  },
  {
   "cell_type": "code",
   "execution_count": 20,
   "id": "f1ed1e3a-1ed2-471b-80e6-effd90f0a043",
   "metadata": {},
   "outputs": [],
   "source": [
    "def create_segment():\n",
    "    global snake\n",
    "    segment=turtle.Turtle()\n",
    "    segment.shape(shapes[1])\n",
    "    segment.speed(0)\n",
    "    segment.color(food_color)\n",
    "    segment.penup()\n",
    "    # position the segment\n",
    "    x , y=get_last_segment_position()\n",
    "    segment.goto(x,y)\n",
    "    snake.append(segment)\n",
    "    "
   ]
  },
  {
   "cell_type": "code",
   "execution_count": 21,
   "id": "23559a24-9d40-4619-b86d-37f4a43bae72",
   "metadata": {},
   "outputs": [],
   "source": [
    "def get_last_segment_position():\n",
    "    \n",
    "    x=snake[-1].xcor()\n",
    "    \n",
    "    y=snake[-1].ycor()\n",
    "    \n",
    "    if direction == 'up':\n",
    "        \n",
    "        y = y - TURTLE_SIZE\n",
    "        \n",
    "    elif direction == 'down':\n",
    "        \n",
    "        y = y + TURTLE_SIZE\n",
    "        \n",
    "    elif direction == 'right':\n",
    "        \n",
    "        x = x - TURTLE_SIZE\n",
    "        \n",
    "    elif direction == 'left':\n",
    "        \n",
    "        x = x + TURTLE_SIZE\n",
    "        \n",
    "    return (x,y)\n",
    "        "
   ]
  },
  {
   "cell_type": "code",
   "execution_count": 22,
   "id": "839132c9-0b90-43a1-aff7-e4301b7d63b1",
   "metadata": {},
   "outputs": [],
   "source": [
    "def get_shape():\n",
    "    index=random.randint(0,len(shapes)-1)\n",
    "    return shapes[index]"
   ]
  },
  {
   "cell_type": "code",
   "execution_count": 23,
   "id": "58368d82-63b8-465e-83ac-ca6b7ab894db",
   "metadata": {},
   "outputs": [],
   "source": [
    "def get_color():\n",
    "    global food_color\n",
    "    index=random.randint(0,len(color)-1)\n",
    "    colors=color[index]\n",
    "    food_color=colors\n",
    "    return colors"
   ]
  },
  {
   "cell_type": "code",
   "execution_count": 24,
   "id": "04bf89e8-1654-4ae8-8113-3d584577d91d",
   "metadata": {},
   "outputs": [],
   "source": [
    "set_screen()"
   ]
  },
  {
   "cell_type": "code",
   "execution_count": 25,
   "id": "b8eaa5cf-d8ad-4e04-a581-9f75614e705f",
   "metadata": {},
   "outputs": [],
   "source": [
    "listen_events()"
   ]
  },
  {
   "cell_type": "code",
   "execution_count": 26,
   "id": "8c8d4d51-b89f-4f42-a6d1-4178b415cdcb",
   "metadata": {},
   "outputs": [],
   "source": [
    "create_head()"
   ]
  },
  {
   "cell_type": "code",
   "execution_count": 27,
   "id": "a8bf3fea-dbb2-438f-8d7f-ad79284f905d",
   "metadata": {},
   "outputs": [],
   "source": [
    "create_score()"
   ]
  },
  {
   "cell_type": "code",
   "execution_count": null,
   "id": "719e7baa-051e-41f9-84d8-d100f3dc5f03",
   "metadata": {
    "tags": []
   },
   "outputs": [],
   "source": [
    "update_screen()"
   ]
  },
  {
   "cell_type": "code",
   "execution_count": null,
   "id": "cb9a790a-0d77-4e8c-bb31-30c2df76b01d",
   "metadata": {},
   "outputs": [],
   "source": [
    "# close the turtle\n",
    "turtle.mainloop()"
   ]
  }
 ],
 "metadata": {
  "kernelspec": {
   "display_name": "Python 3",
   "language": "python",
   "name": "python3"
  },
  "language_info": {
   "codemirror_mode": {
    "name": "ipython",
    "version": 3
   },
   "file_extension": ".py",
   "mimetype": "text/x-python",
   "name": "python",
   "nbconvert_exporter": "python",
   "pygments_lexer": "ipython3",
   "version": "3.8.8"
  }
 },
 "nbformat": 4,
 "nbformat_minor": 5
}
